{
 "cells": [
  {
   "cell_type": "markdown",
   "metadata": {},
   "source": [
    "# This is problem 7.4 for CS514-assignment-2"
   ]
  },
  {
   "cell_type": "code",
   "execution_count": 71,
   "metadata": {},
   "outputs": [
    {
     "name": "stdout",
     "output_type": "stream",
     "text": [
      " Matrix A \n",
      "[[0.7 0.7 0.7 ... 0.3 0.3 0.3]\n",
      " [0.7 0.7 0.7 ... 0.3 0.3 0.3]\n",
      " [0.7 0.7 0.7 ... 0.3 0.3 0.3]\n",
      " ...\n",
      " [0.3 0.3 0.3 ... 0.7 0.7 0.7]\n",
      " [0.3 0.3 0.3 ... 0.7 0.7 0.7]\n",
      " [0.3 0.3 0.3 ... 0.7 0.7 0.7]]\n",
      " Matrix B \n",
      "[[0.20260695 0.2070931  0.15263774 ... 0.78202423 0.22120209 0.22632819]\n",
      " [0.60996079 0.51438603 0.41949995 ... 0.96695275 0.85496038 0.88366691]\n",
      " [0.49326904 0.74515003 0.26340124 ... 0.14871525 0.50312319 0.34156898]\n",
      " ...\n",
      " [0.97878163 0.86981145 0.6195325  ... 0.43039011 0.51998359 0.22815529]\n",
      " [0.35156809 0.32950371 0.39210382 ... 0.02437912 0.207572   0.51161899]\n",
      " [0.01321017 0.70126371 0.33057441 ... 0.43990188 0.27814725 0.16811634]]\n",
      " Matrix B_replaced \n",
      "[[0 0 0 ... 1 0 0]\n",
      " [0 0 0 ... 1 1 1]\n",
      " [0 1 0 ... 0 1 1]\n",
      " ...\n",
      " [1 1 1 ... 0 0 0]\n",
      " [1 1 1 ... 0 0 0]\n",
      " [0 1 1 ... 0 0 0]]\n"
     ]
    }
   ],
   "source": [
    "import numpy as np\n",
    "from scipy.linalg import block_diag\n",
    "\n",
    "# construct A\n",
    "a = np.ones((50,50))\n",
    "A = block_diag(a,a,a)\n",
    "A = A * 0.4 + 0.3\n",
    "print(' Matrix A ')\n",
    "print(A)\n",
    "\n",
    "# generate B, for convenience of reproduction, fix random seed\n",
    "np.random.seed(86)\n",
    "B = np.random.random(A.shape)\n",
    "print(' Matrix B ')\n",
    "print(B)\n",
    "# replace B's values \n",
    "ones = B >= A\n",
    "B_replaced = ones * 1\n",
    "print(' Matrix B_replaced ')\n",
    "print(B_replaced)\n"
   ]
  },
  {
   "cell_type": "code",
   "execution_count": 86,
   "metadata": {},
   "outputs": [],
   "source": [
    "def KMeans_fit(X, epsilon=0, n_clusters=1, random_state=None):\n",
    "    \"\"\"\n",
    "        A simple impelementation of KMeans methods,\n",
    "        using random initialization and do not re-\n",
    "        initialize centroids.\n",
    "        Input:\n",
    "          X -- input array\n",
    "          epsilon -- a very small number used to identify convergence\n",
    "          n_clusters -- number of clusters, integer\n",
    "          random_state -- random seed, integer\n",
    "        Output:\n",
    "          inertia -- sum of square errors\n",
    "          labels -- a array contains labels for data\n",
    "    \"\"\"\n",
    "    # delta is the difference between previous centroids and new centroids\n",
    "    delta = 1.0\n",
    "    # distance matrix, with shape N x k, N is the num of samples, k is n_clusters\n",
    "    distance = np.zeros((X.shape[0],n_clusters))\n",
    "    # labels, an 1-D array with shape (N,), storing the cluster number data fell into.\n",
    "    labels = np.zeros(X.shape[0])\n",
    "    # initialize centroids\n",
    "    if random_state is not None:\n",
    "        np.random.seed(random_state)\n",
    "    indices = np.random.randint(150, size=n_clusters)\n",
    "    centroids = X[indices]\n",
    "    \n",
    "    while(delta > epsilon):\n",
    "        # compute distance matrix\n",
    "        for i, centroid in enumerate(centroids):\n",
    "            distance[:,i] = np.linalg.norm(X - centroid, axis=1)\n",
    "        # assign each point to nearest cluster\n",
    "        labels = np.argsort(distance,axis=1)[:,0]\n",
    "        # update centroids by the means of each cluster\n",
    "        new_centroids = np.zeros_like(centroids)\n",
    "        for i in range(n_clusters):\n",
    "            mean = np.mean(X[labels == i], axis=0)\n",
    "            new_centroids[i] = mean\n",
    "        # delta equals the sum of l2 distances between new and old centroids\n",
    "        delta = np.sum(np.linalg.norm(new_centroids - centroids,axis=1))\n",
    "        # update\n",
    "        centroids = new_centroids\n",
    "    \n",
    "    # compute sum of square errors\n",
    "    inertia = np.sum(distance.min(axis=1))\n",
    "    \n",
    "    return inertia, labels\n",
    "    \n",
    "    "
   ]
  },
  {
   "cell_type": "code",
   "execution_count": 89,
   "metadata": {
    "scrolled": false
   },
   "outputs": [
    {
     "name": "stdout",
     "output_type": "stream",
     "text": [
      "Cluster 0 indices\n",
      "[61 55 59 84 72 53 69 91 87 74 51 81 50 98 85 89 94 90 80 77 54 86 83 79\n",
      " 71 97 62 82 95 63 52 75 70 68 58 88 73 56 60 92 57 93 65 66 67 64 78 76\n",
      " 99 96]\n",
      "Cluster 1 indices\n",
      "[32 30  1  8 39  9 19 34 35 40 37 25 20 21 47  0 11 45  3 15  7 33  6 36\n",
      " 42 10 18 23 46 38 14 31  5 26 12 49 43  2 22 48 24 16  4 29 44 41 13 17\n",
      " 27 28]\n",
      "Cluster 2 indices\n",
      "[113 130 132 128 138 136 129 143 146 117 118 100 133 102 112 139 125 123\n",
      " 110 142 111 134 103 106 135 121 107 149 108 114 147 126 104 105 131 141\n",
      " 144 140 115 145 101 127 109 116 124 120 119 122 137 148]\n"
     ]
    }
   ],
   "source": [
    "np.set_printoptions(threshold=150)\n",
    "# random permutation\n",
    "np.random.seed(86)\n",
    "permutation = np.random.permutation(A.shape[0])\n",
    "# shuffle rows\n",
    "A_shuffled = A[permutation]\n",
    "# shuffle cols\n",
    "A_shuffled = A_shuffled[:,permutation]\n",
    "inertia, labels = KMeans_fit(A_shuffled, n_clusters=3, random_state=86)\n",
    "# print clustering result to check if the clusters match natural clusters in A\n",
    "# each cluster should correspond to a block in A,\n",
    "# e.g. block1: row 0 to row 49, block2: row 50 to row 99\n",
    "for k in range(3):\n",
    "    # get indices of datapoints fell into cluster k in shuffled A \n",
    "    indices = labels == k\n",
    "    # print original indices of those datapoints in A\n",
    "    print('Cluster %d indices' %k)\n",
    "    print(permutation[indices])"
   ]
  },
  {
   "cell_type": "markdown",
   "metadata": {},
   "source": [
    "**The results of KMeans clustering using $k=3$ perfectly matches the natural clusters.**"
   ]
  },
  {
   "cell_type": "code",
   "execution_count": 90,
   "metadata": {},
   "outputs": [
    {
     "name": "stderr",
     "output_type": "stream",
     "text": [
      "/home/zy/anaconda2/envs/cs682/lib/python3.6/site-packages/numpy/core/fromnumeric.py:2957: RuntimeWarning: Mean of empty slice.\n",
      "  out=out, **kwargs)\n",
      "/home/zy/anaconda2/envs/cs682/lib/python3.6/site-packages/numpy/core/_methods.py:73: RuntimeWarning: invalid value encountered in true_divide\n",
      "  ret, rcount, out=ret, casting='unsafe', subok=False)\n"
     ]
    },
    {
     "data": {
      "image/png": "[encoded data removed]",
      "text/plain": [
       "<Figure size 432x288 with 1 Axes>"
      ]
     },
     "metadata": {},
     "output_type": "display_data"
    }
   ],
   "source": [
    "import matplotlib.pyplot as plt\n",
    "errors = []\n",
    "ks = np.arange(1,11)\n",
    "for k in ks:\n",
    "    sse, _ = KMeans_fit(A_shuffled, n_clusters=k, random_state=86)\n",
    "    errors.append(sse)\n",
    "\n",
    "plt.plot(ks, errors)\n",
    "plt.xlabel('k')\n",
    "plt.xticks(ks)\n",
    "plt.ylabel('SSE')\n",
    "plt.title('KMeans k-SSE plot')\n",
    "plt.show()"
   ]
  },
  {
   "cell_type": "markdown",
   "metadata": {},
   "source": [
    "**The plot shows that $k = 3$ is the correct choice since the knee point is located at $3$.**"
   ]
  },
  {
   "cell_type": "code",
   "execution_count": null,
   "metadata": {},
   "outputs": [],
   "source": []
  }
 ],
 "metadata": {
  "kernelspec": {
   "display_name": "Python 3",
   "language": "python",
   "name": "python3"
  },
  "language_info": {
   "codemirror_mode": {
    "name": "ipython",
    "version": 3
   },
   "file_extension": ".py",
   "mimetype": "text/x-python",
   "name": "python",
   "nbconvert_exporter": "python",
   "pygments_lexer": "ipython3",
   "version": "3.6.5"
  }
 },
 "nbformat": 4,
 "nbformat_minor": 2
}
