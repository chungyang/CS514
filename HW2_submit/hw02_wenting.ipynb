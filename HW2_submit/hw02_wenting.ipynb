{
 "cells": [
  {
   "cell_type": "markdown",
   "metadata": {
    "button": false,
    "deletable": true,
    "new_sheet": false,
    "run_control": {
     "read_only": false
    }
   },
   "source": [
    "### MMD 3.3.2"
   ]
  },
  {
   "cell_type": "code",
   "execution_count": 12,
   "metadata": {
    "button": false,
    "collapsed": false,
    "deletable": true,
    "new_sheet": false,
    "run_control": {
     "read_only": false
    }
   },
   "outputs": [
    {
     "name": "stdout",
     "output_type": "stream",
     "text": [
      "h1:  [1 3 5 1 3 5]\n",
      "h2:  [2 5 2 5 2 5]\n",
      "h3:  [2 1 0 5 4 3]\n"
     ]
    }
   ],
   "source": [
    "import numpy as np\n",
    "M = np.array([\n",
    "        [0,1,0,1],\n",
    "        [0,1,0,0],\n",
    "        [1,0,0,1],\n",
    "        [0,0,1,0],\n",
    "        [0,0,1,1],\n",
    "        [1,0,0,0]])\n",
    "ele = np.array(range(M.shape[0]))   \n",
    "h1 = np.mod(ele*2 + 1, 6)\n",
    "h2 = np.mod(ele*3 + 2, 6)\n",
    "h3 = np.mod(ele*5 + 2, 6)\n",
    "print('h1: ', h1)\n",
    "print('h2: ', h2)\n",
    "print('h3: ', h3)"
   ]
  },
  {
   "cell_type": "markdown",
   "metadata": {
    "button": false,
    "deletable": true,
    "new_sheet": false,
    "run_control": {
     "read_only": false
    }
   },
   "source": [
    "### MMD 10.4.2"
   ]
  },
  {
   "cell_type": "code",
   "execution_count": 1,
   "metadata": {
    "button": false,
    "collapsed": false,
    "deletable": true,
    "new_sheet": false,
    "run_control": {
     "read_only": false
    }
   },
   "outputs": [
    {
     "name": "stdout",
     "output_type": "stream",
     "text": [
      "second-smallest eigenvalue:  0.697224362268\n",
      "corresponding vector:  [-0.15728598 -0.16666667  0.29389153 -0.33333333  0.28305594 -0.40824829\n",
      "  0.50834187  0.00210742 -0.48643259]\n",
      "third-smallest eigenvalue:  0.697224362268\n",
      "corresponding vector:  [-0.36219431  0.33333333 -0.38287473 -0.33333333  0.10413675 -0.40824829\n",
      " -0.3923125   0.23920786 -0.07430338]\n"
     ]
    }
   ],
   "source": [
    "import numpy as np\n",
    "A = np.array([\n",
    "        [0,1,1,0,0,0,0,0,0], # A to B,C\n",
    "        [1,0,1,0,0,0,0,1,0], # B to A,C,H\n",
    "        [1,1,0,1,0,0,0,0,0], # C to A,B,D\n",
    "        [0,0,1,0,1,1,0,0,0], # D to C,E,F\n",
    "        [0,0,0,1,0,1,1,0,0], # E to D,F,G\n",
    "        [0,0,0,1,1,0,0,0,0], # F to D,E\n",
    "        [0,0,0,0,1,0,0,1,1], # G to E,H,I\n",
    "        [0,1,0,0,0,0,1,0,1], # H to B,G,I\n",
    "        [0,0,0,0,0,0,1,1,0]  # I to G,H\n",
    "    ])\n",
    "D = np.diag([2,3,3,3,3,2,3,3,2])\n",
    "L = D - A\n",
    "result = np.linalg.eig(L)\n",
    "idx = np.argsort(result[0])\n",
    "# second-smallest eigenvalue and its eigenvector\n",
    "print('second-smallest eigenvalue: ', np.sort(result[0])[1]) # ASC\n",
    "print('corresponding vector: ', result[1][idx[1]])\n",
    "\n",
    "# third-smallest eigenvalue and its eigenvector\n",
    "print('third-smallest eigenvalue: ', np.sort(result[0])[2]) # ASC\n",
    "print('corresponding vector: ', result[1][idx[2]])"
   ]
  },
  {
   "cell_type": "code",
   "execution_count": 2,
   "metadata": {
    "button": false,
    "collapsed": true,
    "deletable": true,
    "new_sheet": false,
    "run_control": {
     "read_only": false
    }
   },
   "outputs": [],
   "source": [
    "import matplotlib.pyplot as plt"
   ]
  },
  {
   "cell_type": "code",
   "execution_count": 3,
   "metadata": {
    "button": false,
    "collapsed": true,
    "deletable": true,
    "new_sheet": false,
    "run_control": {
     "read_only": false
    }
   },
   "outputs": [],
   "source": [
    "%matplotlib inline"
   ]
  },
  {
   "cell_type": "code",
   "execution_count": 8,
   "metadata": {
    "button": false,
    "collapsed": false,
    "deletable": true,
    "new_sheet": false,
    "run_control": {
     "read_only": false
    }
   },
   "outputs": [
    {
     "data": {
      "text/plain": [
       "<matplotlib.collections.PathCollection at 0x11052f588>"
      ]
     },
     "execution_count": 8,
     "metadata": {},
     "output_type": "execute_result"
    },
    {
     "name": "stderr",
     "output_type": "stream",
     "text": [
      "/Applications/Pineapple.app/Contents/Frameworks/Python.framework/Versions/3.5/lib/python3.5/site-packages/matplotlib/collections.py:590: FutureWarning: elementwise comparison failed; returning scalar instead, but in the future will perform elementwise comparison\n",
      "  if self._edgecolors == str('face'):\n"
     ]
    },
    {
     "data": {
      "image/png": "[encoded data removed]",
      "text/plain": [
       "<matplotlib.figure.Figure at 0x110474320>"
      ]
     },
     "metadata": {},
     "output_type": "display_data"
    }
   ],
   "source": [
    "plt.scatter(result[1][idx[1]], result[1][idx[2]])"
   ]
  },
  {
   "cell_type": "markdown",
   "metadata": {
    "button": false,
    "deletable": true,
    "new_sheet": false,
    "run_control": {
     "read_only": false
    }
   },
   "source": [
    "### FD 7.17"
   ]
  },
  {
   "cell_type": "code",
   "execution_count": null,
   "metadata": {
    "button": false,
    "collapsed": true,
    "deletable": true,
    "new_sheet": false,
    "run_control": {
     "read_only": false
    }
   },
   "outputs": [],
   "source": []
  }
 ],
 "metadata": {
  "kernelspec": {
   "display_name": "Python 3",
   "language": "python",
   "name": "python3"
  },
  "language_info": {
   "codemirror_mode": {
    "name": "ipython",
    "version": 3
   },
   "file_extension": ".py",
   "mimetype": "text/x-python",
   "name": "python",
   "nbconvert_exporter": "python",
   "pygments_lexer": "ipython3",
   "version": "3.5.0"
  }
 },
 "nbformat": 4,
 "nbformat_minor": 0
}
