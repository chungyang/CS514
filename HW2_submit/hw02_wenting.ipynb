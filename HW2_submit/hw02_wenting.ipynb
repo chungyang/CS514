{
 "cells": [
  {
   "cell_type": "markdown",
   "metadata": {
    "button": false,
    "deletable": true,
    "new_sheet": false,
    "run_control": {
     "read_only": false
    }
   },
   "source": [
    "### MMD 3.3.2"
   ]
  },
  {
   "cell_type": "code",
   "execution_count": 1,
   "metadata": {
    "button": false,
    "collapsed": false,
    "deletable": true,
    "new_sheet": false,
    "run_control": {
     "read_only": false
    }
   },
   "outputs": [
    {
     "name": "stdout",
     "output_type": "stream",
     "text": [
      "signatures:\n",
      "h3:  [4 1 3 0 2 4]\n",
      "h4:  [4 2 0 3 1 4]\n"
     ]
    }
   ],
   "source": [
    "import numpy as np\n",
    "M = np.array([\n",
    "        [0,1,0,1],\n",
    "        [0,1,0,0],\n",
    "        [1,0,0,1],\n",
    "        [0,0,1,0],\n",
    "        [0,0,1,1],\n",
    "        [1,0,0,0]])\n",
    "ele = np.array(range(M.shape[0]))\n",
    "h3 = np.mod(ele*2 + 4, 5)\n",
    "h4 = np.mod(ele*3 - 1, 5)\n",
    "print('signatures:')\n",
    "print('h3: ', h3)\n",
    "print('h4: ', h4)"
   ]
  },
  {
   "cell_type": "markdown",
   "metadata": {
    "button": false,
    "deletable": true,
    "new_sheet": false,
    "run_control": {
     "read_only": false
    }
   },
   "source": [
    "### MMD 10.4.2"
   ]
  },
  {
   "cell_type": "code",
   "execution_count": 66,
   "metadata": {
    "button": false,
    "collapsed": false,
    "deletable": true,
    "new_sheet": false,
    "run_control": {
     "read_only": false
    }
   },
   "outputs": [
    {
     "name": "stdout",
     "output_type": "stream",
     "text": [
      "second-smallest eigenvalue:  0.697224362268\n",
      "corresponding vector:  [-0.15728598 -0.16666667  0.29389153 -0.33333333  0.28305594 -0.40824829\n",
      "  0.50834187  0.00210742 -0.48643259]\n"
     ]
    }
   ],
   "source": [
    "import numpy as np\n",
    "A = np.array([\n",
    "        [0,1,1,0,0,0,0,0,0], # A to B,C\n",
    "        [1,0,1,0,0,0,0,1,0], # B to A,C,H\n",
    "        [1,1,0,1,0,0,0,0,0], # C to A,B,D\n",
    "        [0,0,1,0,1,1,0,0,0], # D to C,E,F\n",
    "        [0,0,0,1,0,1,1,0,0], # E to D,F,G\n",
    "        [0,0,0,1,1,0,0,0,0], # F to D,E\n",
    "        [0,0,0,0,1,0,0,1,1], # G to E,H,I\n",
    "        [0,1,0,0,0,0,1,0,1], # H to B,G,I\n",
    "        [0,0,0,0,0,0,1,1,0]  # I to G,H\n",
    "    ])\n",
    "D = np.diag([2,3,3,3,3,2,3,3,2])\n",
    "L = D - A\n",
    "result = np.linalg.eig(L)\n",
    "idx = np.argsort(result[0])\n",
    "# second-smallest eigenvalue and its eigenvector\n",
    "print('second-smallest eigenvalue: ', np.sort(result[0])[1]) # ASC\n",
    "print('corresponding vector: ', result[1][idx[1]])"
   ]
  },
  {
   "cell_type": "markdown",
   "metadata": {
    "button": false,
    "deletable": true,
    "new_sheet": false,
    "run_control": {
     "read_only": false
    }
   },
   "source": [
    "### FD 7.17"
   ]
  },
  {
   "cell_type": "code",
   "execution_count": null,
   "metadata": {
    "button": false,
    "collapsed": true,
    "deletable": true,
    "new_sheet": false,
    "run_control": {
     "read_only": false
    }
   },
   "outputs": [],
   "source": []
  }
 ],
 "metadata": {
  "kernelspec": {
   "display_name": "Python 3",
   "language": "python",
   "name": "python3"
  },
  "language_info": {
   "codemirror_mode": {
    "name": "ipython",
    "version": 3
   },
   "file_extension": ".py",
   "mimetype": "text/x-python",
   "name": "python",
   "nbconvert_exporter": "python",
   "pygments_lexer": "ipython3",
   "version": "3.5.0"
  }
 },
 "nbformat": 4,
 "nbformat_minor": 0
}
